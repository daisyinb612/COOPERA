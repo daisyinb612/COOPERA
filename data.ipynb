{
 "cells": [
  {
   "cell_type": "code",
   "execution_count": 1,
   "metadata": {
    "ExecuteTime": {
     "end_time": "2024-08-10T06:21:25.163883900Z",
     "start_time": "2024-08-10T06:21:25.128810800Z"
    }
   },
   "outputs": [],
   "source": [
    "import os\n",
    "\n",
    "user_id = 1\n",
    "\n",
    "os.makedirs(f'./{user_id}', exist_ok=True)\n",
    "os.makedirs(f'./{user_id}/wav', exist_ok=True)\n",
    "os.makedirs(f'./{user_id}/character_image', exist_ok=True)\n",
    "os.makedirs(f'./{user_id}/scene_image', exist_ok=True)\n",
    "os.makedirs(f'./back-end/程序/history', exist_ok=True)\n",
    "os.makedirs(f'./back-end/程序/opera_info/character', exist_ok=True)\n",
    "os.makedirs(f'./back-end/程序/opera_info/dialog', exist_ok=True)\n",
    "os.makedirs(f'./back-end/程序/opera_info/outline', exist_ok=True)\n",
    "os.makedirs(f'./back-end/程序/opera_info/scene', exist_ok=True)\n",
    "os.makedirs(f'./back-end/程序/opera_info/storyline', exist_ok=True)\n",
    "os.makedirs(f'./back-end/程序/opera_info/audio', exist_ok=True)\n",
    "\n",
    "wav_path = './back-end/程序/opera_info/audio'\n",
    "wav_files = os.listdir(wav_path)\n",
    "wav_files = [f for f in wav_files if f.endswith('.wav')]\n",
    "for f in wav_files:\n",
    "    os.rename(f'{wav_path}/{f}', f'./{user_id}/wav/{f}')\n",
    "\n",
    "\n",
    "audio_path = \"./back-end/程序/opera_info/audio\"\n",
    "audio_files = os.listdir(audio_path)\n",
    "# 删除所有文件\n",
    "for f in audio_files:\n",
    "    os.remove(f'{audio_path}/{f}')\n",
    "\n",
    "\n",
    "history_path = \"./back-end/程序/history\"\n",
    "history_files = os.listdir(history_path)\n",
    "history_files = [f for f in history_files if f.endswith('.jsonl')]\n",
    "for f in history_files:\n",
    "    os.rename(f'{history_path}/{f}', f'./{user_id}/{f}')\n",
    "\n",
    "character_path = \"./back-end/程序/opera_info/character\"\n",
    "character_files = os.listdir(character_path)\n",
    "character_image_files = [f for f in character_files if f.endswith('.jpeg') or f.endswith('.png')]\n",
    "\n",
    "character_files = [f for f in character_files if f.endswith('.json')]\n",
    "for f in character_files:\n",
    "    os.rename(f'{character_path}/{f}', f'./{user_id}/{f}')\n",
    "\n",
    "for f in character_image_files:\n",
    "    os.rename(f'{character_path}/{f}', f'./{user_id}/character_image/{f}')\n",
    "\n",
    "dialogue_path = \"./back-end/程序/opera_info/dialog\"\n",
    "dialogue_files = os.listdir(dialogue_path)\n",
    "dialogue_files = [f for f in dialogue_files if f.endswith('.json')]\n",
    "for f in dialogue_files:\n",
    "    os.rename(f'{dialogue_path}/{f}', f'./{user_id}/{f}')\n",
    "\n",
    "outline_path = \"./back-end/程序/opera_info/outline\"\n",
    "outline_files = os.listdir(outline_path)\n",
    "outline_files = [f for f in outline_files if f.endswith('.json')]\n",
    "for f in outline_files:\n",
    "    os.rename(f'{outline_path}/{f}', f'./{user_id}/{f}')\n",
    "\n",
    "scene_path = \"./back-end/程序/opera_info/scene\"\n",
    "scene_files = os.listdir(scene_path)\n",
    "scene_image_files = [f for f in scene_files if f.endswith('.jpeg') or f.endswith('.png')]\n",
    "scene_files = [f for f in scene_files if f.endswith('.json')]\n",
    "for f in scene_files:\n",
    "    os.rename(f'{scene_path}/{f}', f'./{user_id}/{f}')\n",
    "\n",
    "for f in scene_image_files:\n",
    "    os.rename(f'{scene_path}/{f}', f'./{user_id}/scene_image/{f}')\n",
    "\n",
    "storyline_path = \"./back-end/程序/opera_info/storyline\"\n",
    "storyline_files = os.listdir(storyline_path)\n",
    "for f in storyline_files:\n",
    "    os.rename(f'{storyline_path}/{f}', f'./{user_id}/{f}')\n",
    "    \n",
    "\n",
    "\n"
   ]
  },
  {
   "cell_type": "code",
   "execution_count": null,
   "metadata": {
    "collapsed": false
   },
   "outputs": [],
   "source": []
  }
 ],
 "metadata": {
  "kernelspec": {
   "display_name": "pytorch",
   "language": "python",
   "name": "python3"
  },
  "language_info": {
   "codemirror_mode": {
    "name": "ipython",
    "version": 3
   },
   "file_extension": ".py",
   "mimetype": "text/x-python",
   "name": "python",
   "nbconvert_exporter": "python",
   "pygments_lexer": "ipython3",
   "version": "3.9.18"
  }
 },
 "nbformat": 4,
 "nbformat_minor": 2
}
