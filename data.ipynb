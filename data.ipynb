{
 "cells": [
  {
   "cell_type": "code",
   "outputs": [],
   "source": [
    "import os\n",
    "\n",
    "user_id = 3\n",
    "\n",
    "user_file_name = f'./experiment_data/{user_id}'\n",
    "os.makedirs(user_file_name, exist_ok=True)\n",
    "os.makedirs(user_file_name + '/wav', exist_ok=True)\n",
    "os.makedirs(user_file_name + '/character_image', exist_ok=True)\n",
    "os.makedirs(user_file_name + '/scene_image', exist_ok=True)\n",
    "os.makedirs(f'./back-end/程序/history', exist_ok=True)\n",
    "os.makedirs(f'./back-end/程序/opera_info/character', exist_ok=True)\n",
    "os.makedirs(f'./back-end/程序/opera_info/dialog', exist_ok=True)\n",
    "os.makedirs(f'./back-end/程序/opera_info/outline', exist_ok=True)\n",
    "os.makedirs(f'./back-end/程序/opera_info/scene', exist_ok=True)\n",
    "os.makedirs(f'./back-end/程序/opera_info/storyline', exist_ok=True)\n",
    "os.makedirs(f'./back-end/程序/opera_info/audio', exist_ok=True)\n",
    "\n",
    "wav_path = './back-end/程序/opera_info/audio'\n",
    "wav_files = os.listdir(wav_path)\n",
    "wav_files = [f for f in wav_files if f.endswith('.wav')]\n",
    "for f in wav_files:\n",
    "    os.rename(f'{wav_path}/{f}', user_file_name + f'/wav/{f}')\n",
    "\n",
    "audio_path = \"./back-end/程序/opera_info/audio\"\n",
    "audio_files = os.listdir(audio_path)\n",
    "# 删除所有文件\n",
    "for f in audio_files:\n",
    "    os.remove(f'{audio_path}/{f}')\n",
    "\n",
    "history_path = \"./back-end/程序/history\"\n",
    "history_files = os.listdir(history_path)\n",
    "history_files = [f for f in history_files if f.endswith('.jsonl')]\n",
    "for f in history_files:\n",
    "    os.rename(f'{history_path}/{f}', user_file_name + f'/{f}')\n",
    "\n",
    "character_path = \"./back-end/程序/opera_info/character\"\n",
    "character_files = os.listdir(character_path)\n",
    "character_image_files = [f for f in character_files if f.endswith('.jpeg') or f.endswith('.png')]\n",
    "\n",
    "character_files = [f for f in character_files if f.endswith('.json')]\n",
    "for f in character_files:\n",
    "    os.rename(f'{character_path}/{f}', user_file_name + f'/{f}')\n",
    "\n",
    "for f in character_image_files:\n",
    "    os.rename(f'{character_path}/{f}', user_file_name + f'/character_image/{f}')\n",
    "\n",
    "dialogue_path = \"./back-end/程序/opera_info/dialog\"\n",
    "dialogue_files = os.listdir(dialogue_path)\n",
    "dialogue_files = [f for f in dialogue_files if f.endswith('.json')]\n",
    "for f in dialogue_files:\n",
    "    os.rename(f'{dialogue_path}/{f}', user_file_name + f'/{f}')\n",
    "\n",
    "outline_path = \"./back-end/程序/opera_info/outline\"\n",
    "outline_files = os.listdir(outline_path)\n",
    "outline_files = [f for f in outline_files if f.endswith('.json')]\n",
    "for f in outline_files:\n",
    "    os.rename(f'{outline_path}/{f}', user_file_name + f'/{f}')\n",
    "\n",
    "scene_path = \"./back-end/程序/opera_info/scene\"\n",
    "scene_files = os.listdir(scene_path)\n",
    "scene_image_files = [f for f in scene_files if f.endswith('.jpeg') or f.endswith('.png')]\n",
    "scene_files = [f for f in scene_files if f.endswith('.json')]\n",
    "for f in scene_files:\n",
    "    os.rename(f'{scene_path}/{f}', user_file_name + f'/{f}')\n",
    "\n",
    "for f in scene_image_files:\n",
    "    os.rename(f'{scene_path}/{f}', user_file_name + f'{f}')\n",
    "\n",
    "storyline_path = \"./back-end/程序/opera_info/storyline\"\n",
    "storyline_files = os.listdir(storyline_path)\n",
    "for f in storyline_files:\n",
    "    os.rename(f'{storyline_path}/{f}', user_file_name + f'/{f}')\n",
    "\n",
    "\n",
    "\n"
   ],
   "metadata": {
    "collapsed": false,
    "ExecuteTime": {
     "end_time": "2024-08-11T03:17:24.879623400Z",
     "start_time": "2024-08-11T03:17:24.855600100Z"
    }
   },
   "execution_count": 1
  },
  {
   "cell_type": "code",
   "outputs": [],
   "source": [],
   "metadata": {
    "collapsed": false
   }
  }
 ],
 "metadata": {
  "kernelspec": {
   "display_name": "pytorch",
   "language": "python",
   "name": "python3"
  },
  "language_info": {
   "codemirror_mode": {
    "name": "ipython",
    "version": 3
   },
   "file_extension": ".py",
   "mimetype": "text/x-python",
   "name": "python",
   "nbconvert_exporter": "python",
   "pygments_lexer": "ipython3",
   "version": "3.9.18"
  }
 },
 "nbformat": 4,
 "nbformat_minor": 2
}
