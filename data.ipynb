{
 "cells": [
  {
   "cell_type": "code",
   "execution_count": 2,
   "metadata": {
    "ExecuteTime": {
     "end_time": "2024-08-11T03:17:24.879623400Z",
     "start_time": "2024-08-11T03:17:24.855600100Z"
    },
    "collapsed": false
   },
   "outputs": [
    {
     "ename": "FileExistsError",
     "evalue": "[WinError 183] Cannot create a file when that file already exists: './back-end/程序/history/history.json' -> './experiment_data/4/history.json'",
     "output_type": "error",
     "traceback": [
      "\u001b[1;31m---------------------------------------------------------------------------\u001b[0m",
      "\u001b[1;31mFileExistsError\u001b[0m                           Traceback (most recent call last)",
      "Cell \u001b[1;32mIn[2], line 23\u001b[0m\n\u001b[0;32m     21\u001b[0m history_files \u001b[38;5;241m=\u001b[39m [f \u001b[38;5;28;01mfor\u001b[39;00m f \u001b[38;5;129;01min\u001b[39;00m history_files \u001b[38;5;28;01mif\u001b[39;00m f\u001b[38;5;241m.\u001b[39mendswith(\u001b[38;5;124m'\u001b[39m\u001b[38;5;124m.json\u001b[39m\u001b[38;5;124m'\u001b[39m)]\n\u001b[0;32m     22\u001b[0m \u001b[38;5;28;01mfor\u001b[39;00m f \u001b[38;5;129;01min\u001b[39;00m history_files:\n\u001b[1;32m---> 23\u001b[0m     \u001b[43mos\u001b[49m\u001b[38;5;241;43m.\u001b[39;49m\u001b[43mrename\u001b[49m\u001b[43m(\u001b[49m\u001b[38;5;124;43mf\u001b[39;49m\u001b[38;5;124;43m'\u001b[39;49m\u001b[38;5;132;43;01m{\u001b[39;49;00m\u001b[43mhistory_path\u001b[49m\u001b[38;5;132;43;01m}\u001b[39;49;00m\u001b[38;5;124;43m/\u001b[39;49m\u001b[38;5;132;43;01m{\u001b[39;49;00m\u001b[43mf\u001b[49m\u001b[38;5;132;43;01m}\u001b[39;49;00m\u001b[38;5;124;43m'\u001b[39;49m\u001b[43m,\u001b[49m\u001b[43m \u001b[49m\u001b[43muser_file_name\u001b[49m\u001b[43m \u001b[49m\u001b[38;5;241;43m+\u001b[39;49m\u001b[43m \u001b[49m\u001b[38;5;124;43mf\u001b[39;49m\u001b[38;5;124;43m'\u001b[39;49m\u001b[38;5;124;43m/\u001b[39;49m\u001b[38;5;132;43;01m{\u001b[39;49;00m\u001b[43mf\u001b[49m\u001b[38;5;132;43;01m}\u001b[39;49;00m\u001b[38;5;124;43m'\u001b[39;49m\u001b[43m)\u001b[49m\n\u001b[0;32m     25\u001b[0m change_path \u001b[38;5;241m=\u001b[39m \u001b[38;5;124m\"\u001b[39m\u001b[38;5;124m./back-end/程序/opera_info/change\u001b[39m\u001b[38;5;124m\"\u001b[39m\n\u001b[0;32m     26\u001b[0m change_files \u001b[38;5;241m=\u001b[39m os\u001b[38;5;241m.\u001b[39mlistdir(change_path)\n",
      "\u001b[1;31mFileExistsError\u001b[0m: [WinError 183] Cannot create a file when that file already exists: './back-end/程序/history/history.json' -> './experiment_data/4/history.json'"
     ]
    }
   ],
   "source": [
    "import os\n",
    "\n",
    "user_id = 4\n",
    "\n",
    "user_file_name = f'./experiment_data/{user_id}'\n",
    "os.makedirs(user_file_name, exist_ok=True)\n",
    "os.makedirs(user_file_name + '/wav', exist_ok=True)\n",
    "os.makedirs(user_file_name + '/character_image', exist_ok=True)\n",
    "os.makedirs(user_file_name + '/scene_image', exist_ok=True)\n",
    "os.makedirs(f'./back-end/程序/history', exist_ok=True)\n",
    "os.makedirs(f'./back-end/程序/opera_info/character', exist_ok=True)\n",
    "os.makedirs(f'./back-end/程序/opera_info/dialog', exist_ok=True)\n",
    "os.makedirs(f'./back-end/程序/opera_info/outline', exist_ok=True)\n",
    "os.makedirs(f'./back-end/程序/opera_info/scene', exist_ok=True)\n",
    "os.makedirs(f'./back-end/程序/opera_info/storyline', exist_ok=True)\n",
    "os.makedirs(f'./back-end/程序/opera_info/audio', exist_ok=True)\n",
    "\n",
    "\n",
    "history_path = \"./back-end/程序/history\"\n",
    "history_files = os.listdir(history_path)\n",
    "history_files = [f for f in history_files if f.endswith('.json')]\n",
    "for f in history_files:\n",
    "    os.rename(f'{history_path}/{f}', user_file_name + f'/{f}')\n",
    "\n",
    "change_path = \"./back-end/程序/opera_info/change\"\n",
    "change_files = os.listdir(change_path)\n",
    "change_files = [f for f in change_files if f.endswith('.json')]\n",
    "for f in change_files:\n",
    "    os.rename(f'{change_path}/{f}', user_file_name + f'/{f}')\n",
    "\n",
    "\n",
    "\n",
    "wav_path = './back-end/程序/opera_info/audio'\n",
    "wav_files = os.listdir(wav_path)\n",
    "wav_files = [f for f in wav_files if f.endswith('.wav')]\n",
    "for f in wav_files:\n",
    "    os.rename(f'{wav_path}/{f}', user_file_name + f'/wav/{f}')\n",
    "\n",
    "audio_path = \"./back-end/程序/opera_info/audio\"\n",
    "audio_files = os.listdir(audio_path)\n",
    "# 删除所有文件\n",
    "for f in audio_files:\n",
    "    os.remove(f'{audio_path}/{f}')\n",
    "\n",
    "history_path = \"./back-end/程序/history\"\n",
    "history_files = os.listdir(history_path)\n",
    "history_files = [f for f in history_files if f.endswith('.jsonl')]\n",
    "for f in history_files:\n",
    "    os.rename(f'{history_path}/{f}', user_file_name + f'/{f}')\n",
    "\n",
    "character_path = \"./back-end/程序/opera_info/character\"\n",
    "character_files = os.listdir(character_path)\n",
    "character_image_files = [f for f in character_files if f.endswith('.jpeg') or f.endswith('.png')]\n",
    "\n",
    "character_files = [f for f in character_files if f.endswith('.json')]\n",
    "for f in character_files:\n",
    "    os.rename(f'{character_path}/{f}', user_file_name + f'/{f}')\n",
    "\n",
    "for f in character_image_files:\n",
    "    os.rename(f'{character_path}/{f}', user_file_name + f'/character_image/{f}')\n",
    "\n",
    "dialogue_path = \"./back-end/程序/opera_info/dialog\"\n",
    "dialogue_files = os.listdir(dialogue_path)\n",
    "dialogue_files = [f for f in dialogue_files if f.endswith('.json')]\n",
    "for f in dialogue_files:\n",
    "    os.rename(f'{dialogue_path}/{f}', user_file_name + f'/{f}')\n",
    "\n",
    "outline_path = \"./back-end/程序/opera_info/outline\"\n",
    "outline_files = os.listdir(outline_path)\n",
    "outline_files = [f for f in outline_files if f.endswith('.json')]\n",
    "for f in outline_files:\n",
    "    os.rename(f'{outline_path}/{f}', user_file_name + f'/{f}')\n",
    "\n",
    "scene_path = \"./back-end/程序/opera_info/scene\"\n",
    "scene_files = os.listdir(scene_path)\n",
    "scene_image_files = [f for f in scene_files if f.endswith('.jpeg') or f.endswith('.png')]\n",
    "scene_files = [f for f in scene_files if f.endswith('.json')]\n",
    "for f in scene_files:\n",
    "    os.rename(f'{scene_path}/{f}', user_file_name + f'/{f}')\n",
    "\n",
    "for f in scene_image_files:\n",
    "    os.rename(f'{scene_path}/{f}', user_file_name + f'{f}')\n",
    "\n",
    "storyline_path = \"./back-end/程序/opera_info/storyline\"\n",
    "storyline_files = os.listdir(storyline_path)\n",
    "for f in storyline_files:\n",
    "    os.rename(f'{storyline_path}/{f}', user_file_name + f'/{f}')\n",
    "\n",
    "\n",
    "\n"
   ]
  },
  {
   "cell_type": "code",
   "execution_count": null,
   "metadata": {
    "collapsed": false
   },
   "outputs": [],
   "source": []
  }
 ],
 "metadata": {
  "kernelspec": {
   "display_name": "pytorch",
   "language": "python",
   "name": "python3"
  },
  "language_info": {
   "codemirror_mode": {
    "name": "ipython",
    "version": 3
   },
   "file_extension": ".py",
   "mimetype": "text/x-python",
   "name": "python",
   "nbconvert_exporter": "python",
   "pygments_lexer": "ipython3",
   "version": "3.9.18"
  }
 },
 "nbformat": 4,
 "nbformat_minor": 2
}
